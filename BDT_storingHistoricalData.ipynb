{
 "cells": [
  {
   "cell_type": "code",
   "execution_count": 1,
   "metadata": {},
   "outputs": [],
   "source": [
    "import requests\n",
    "import pandas as pd\n",
    "import csv\n",
    "import sqlite3 as sql3"
   ]
  },
  {
   "cell_type": "code",
   "execution_count": 2,
   "metadata": {},
   "outputs": [],
   "source": [
    "my_path = \"https://dati.comune.milano.it/dataset/\"\n",
    "air_data = [\"ad529de1-8398-43e9-bba5-c5012513f23f/resource/82efde46-5354-414b-8826-ba6ada03ac8b/download/ds573_inquinanti_aria_2004-18.csv\",]\n",
    "pop_data = [\"9ccef89d-a087-458e-9391-813ccac86e45/resource/5515e83a-ad35-4b0e-a33f-b30d4ef48df0/download/ds28_pop_pro_municipio.csv\",\n",
    "           \"fcddb7d2-b106-48f5-9a2a-64d3136621dc/resource/084457a7-ec4b-4a6b-b463-d8ab53c64fbb/download/ds205_dati_quartieri_2011_2018.csv\"]\n",
    "viability_data = [\"06fafc33-c6b2-4a6b-8c21-b19149a1e992/resource/0233f674-f2d5-40b7-ad76-fad6e51c67b7/download/ds1486_motivo-di-spostamento-per-studio.csv\"]\n",
    "transportation_data = [\"b8eb04e7-4e99-4ba7-9502-c2aecc4f7e11/resource/0555a0ae-9493-46ca-bc3d-65544f4e99b2/download/tpl_metrosequenza.csv\",\n",
    "           \"b7344a8f-0ef5-424b-a902-f7f06e32dd67/resource/0f4d4d05-b379-45a4-9a10-412a34708484/download/tpl_metrofermate.csv\",\n",
    "           \"32112fb0-4c62-4ec0-aef4-e70b05f0fe41/resource/67bbf039-a22b-4ee3-b32e-31735bf1354d/download/tpl_orari.csv\",\n",
    "           \"581f1e5c-cb68-4e12-8d43-4f24828f9a4f/resource/2f8141e5-122e-4b3c-a4b1-562d881f3f6f/download/tpl_metroorari.csv\",\n",
    "           \"5d24ff16-26c7-4f3a-98dd-b5b8f0b65003/resource/f3ce3f16-0e13-4136-bbe1-d1b37b612f6f/download/tpl_metropercorsi.csv\",\n",
    "           \"8bfe2015-2669-4796-9940-36b3c155b258/resource/d4408a03-ef86-40df-a4a9-e738d05e03e4/download/tpl_percorsi.csv\",\n",
    "           \"cc065002-cd21-4dcb-b84f-bba2fd9e0c86/resource/4c31029c-22c9-49f7-b145-91374feac41c/download/bikemi_stazioni.csv\",\n",
    "           \"85124bd2-bf24-4f40-a6cc-72bef2b536c7/resource/87dcb6a5-2a40-4b10-ab8e-d9ddf61b4c93/download/ds728_passeggeri-voli-low-cost-e-tradizionali-2008_2020.csv\",\n",
    "           \"6c4a7171-6ce9-4f17-9937-b708b15ffecf/resource/91011718-94b9-4ae6-850e-fdded6880193/download/movimenti_aerei_2003_2020.csv\",\n",
    "           \"411cdd38-56f9-4ff1-b369-a2ed04778d84/resource/5f0b0b2b-e86e-44fe-a4e7-9a21a6b75bc3/download/ds45_park_interscambio.csv\",\n",
    "           \"cab0923e-3d30-48b0-af54-a5f9405898d5/resource/7d95467d-6981-4c25-b15b-c7b83c4459b5/download/parco-veicoli-circolanti-suddivisi-per-categoria-2004-2020-2.csv\",\n",
    "           \"1de620a1-58a9-4c7c-8bbb-5de804ecd834/resource/d53fc1d6-fbc7-4528-bb0f-216561fc9dd0/download/ds1547_passeggeri_annui_per_abitante.csv\",\n",
    "           \"87f6f364-860f-42a6-9559-eb29e6fa781b/resource/61bb9357-de63-4185-870f-ef737603dc22/download/ds178_trafficotrasporti_incidenti_stradali_2001_2020.csv\",\n",
    "           \"9f7bcc9c-20a4-4e48-a7cd-99b15ed11102/resource/45b317ca-710a-4a9e-b81b-f380c24d8398/download/ds177_trafficotrasporti_incidenti_stradali_2001-2020.csv\",\n",
    "           \"827d2c91-c2d5-4348-a9b6-3f1a6b2e1c1c/resource/f3bb1aef-aad4-431d-9099-05b624bd5b07/download/ds727_passeggeri-aerei-2003_2020.csv\",\n",
    "           \"1a8929e8-ec11-43a5-9bc2-053aff0b0e47/resource/f160fba9-7c1b-40b6-8cc4-e6a468540716/download/ds525_movimenti_2003_2021.csv\",\n",
    "           \"74ec936a-8eaa-4ea3-8ecb-cdb9754b8d05/resource/411990a7-268b-4329-86aa-73eac73172c6/download/ds79_car_sh.csv\",\n",
    "           \"802a1d1f-4203-44c9-b9f5-dd8aa1f6bc3c/resource/8f3fd2c6-004b-4e23-8d51-852714ce8230/download/sistema_ferroviario_urbano_layer_0_stazioni__final.csv\",\n",
    "           \"d7d9179a-8228-427f-9c86-1e30154be4fe/resource/3a9418ff-ceb1-436a-aa05-acb5f05166e2/download/disciplina_aree.csv\",\n",
    "           \"ceda0264-24f3-4869-9a2d-411906f0abab/resource/18b0480e-5e7d-4a7d-902f-30cc76ad4f9f/download/bike_ciclabili.csv\",\n",
    "           \"85ed8636-fbd0-4bf6-aaf7-7f3f2f610d48/resource/a7659f5a-e153-466c-a23d-28f728a5bc7a/download/sosta_ambiti.csv\",\n",
    "           \"2f4246df-2949-4530-909a-9016652cc8f9/resource/ff380c4b-b07a-4cd2-8e47-d451d2c50f17/download/ds342_park_pub.csv\",\n",
    "           \"0e2c549c-a329-4b42-aae4-b765182b826a/resource/e7a16dc3-96ba-47e4-a9f5-e350ea87b1ef/download/bike_areesosta.csv\",\n",
    "           \"a2d017e4-8b44-49c4-b1f7-856da9ea74a4/resource/08467d90-9cde-45af-ae68-6d63367895c0/download/sosta_turistici.csv\",\n",
    "           \"f9a2a420-d358-46ef-bced-cf2048864d00/resource/e3a3d46e-9b52-41ac-ae48-789b44f9c58e/download/dati-sharing-2011-2019_20200703.csv\",\n",
    "           \"b65a6391-273c-44b8-b1b9-13489550f5ce/resource/ed9df488-b4ee-49ba-871b-7100bc42acac/download/aree_velim.csv\",\n",
    "           \"a42d1ec5-1a9e-43e7-925e-32d7fc976bdd/resource/d4530625-dd71-4e8c-8eb4-bf4e26f2500e/download/tpl_sequenza.csv\",\n",
    "           \"ac494f5d-acd3-4fd3-8cfc-ed24f5c3d923/resource/2a52d51d-66fe-480b-a101-983aa2f6cbc3/download/tpl_fermate.csv\",\n",
    "           \"e688c693-c478-402d-ba25-c9b4a5292cb7/resource/2ba412bc-c38b-4ed0-899f-07f2b6afe221/download/ds1557_filobus_veicoli_utilizzati.csv\",\n",
    "           \"2491be01-2880-4b3a-a4bd-d5080da661dc/resource/32c22a41-1bcc-4a5d-a182-7840dfec441c/download/ds1555_autobus_veicoli_utilizzati.csv\",\n",
    "           \"5ec7481f-e15f-459b-83b1-df925e702de6/resource/3011ff83-fa48-4aa3-aa8f-6126c0964ef7/download/ds1553_filobus_estensione-rete_km.csv\",\n",
    "           \"a5ac1cce-9f95-4cf3-a8ea-5760225e1fe5/resource/fe20b9ab-54f5-4510-8f96-f876045a646a/download/ds1552_filobus_densita-rete.csv\",\n",
    "           \"580c1a3f-617b-4317-bb64-0991277261a4/resource/6903f9cf-c14d-4585-97b8-9a27756d5ba2/download/ds1569_autobus_utilizzati_classe_emissione.csv\",\n",
    "           \"b81eb5bd-79a8-47d9-9a35-ba226b45b0e5/resource/e8a8e52f-37a2-4b4d-a055-76b9f1a2849b/download/ds1548_tram_densita_rete.csv\",\n",
    "           \"3b1507e3-dccc-4d45-b176-b4cf87875630/resource/12ade3fc-aecd-4c34-8c9d-7d4237998bd7/download/ds1551_metropolitana_estensione-rete_km.csv\",\n",
    "           \"ad240683-0839-4600-be7b-8aed8c9d5b4b/resource/8c814597-f0d2-48a2-8c05-c839298592bf/download/ds1549_tram_estensione-rete_km.csv\",\n",
    "           \"31cb6153-eeca-433b-8f3f-99a8467f1a32/resource/68dac7bf-401f-4e51-bbd3-40cfb9c1a225/download/ds1550_metropolitana_densita_tpl.csv\",\n",
    "           \"cdacb96e-42f9-42bd-9776-4d5197b7ed4a/resource/8b6be5f8-e6f0-409f-aa9d-2ea1d2c1bbb9/download/ds1570_autobus_basse_emissioni.csv\",\n",
    "           \"ebbff75c-3d2a-4d0a-a6bd-e4409b39c02e/resource/68c8fd83-b056-4a34-b3f5-94a498bff978/download/ds1565_tram_vetture_utilizzate.csv\",\n",
    "           \"41ada446-dce3-42b9-af8b-4c6f68f73653/resource/48d93535-9a84-4769-806a-8243df5611eb/download/ds1567_metropolitana_convogli_utilizzati.csv\"]\n",
    "\n",
    "datasets = [air_data, pop_data, viability_data, transportation_data]"
   ]
  },
  {
   "cell_type": "markdown",
   "metadata": {},
   "source": [
    "## Storing the historical data"
   ]
  },
  {
   "cell_type": "markdown",
   "metadata": {},
   "source": [
    "### Storing the links"
   ]
  },
  {
   "cell_type": "code",
   "execution_count": 3,
   "metadata": {},
   "outputs": [],
   "source": [
    "links_conn = sql3.connect('historicalLinks.db', timeout=600)"
   ]
  },
  {
   "cell_type": "code",
   "execution_count": 4,
   "metadata": {},
   "outputs": [],
   "source": [
    "links_cursor = links_conn.cursor()"
   ]
  },
  {
   "cell_type": "code",
   "execution_count": 5,
   "metadata": {},
   "outputs": [
    {
     "data": {
      "text/plain": [
       "<sqlite3.Cursor at 0x7f794ae75500>"
      ]
     },
     "execution_count": 5,
     "metadata": {},
     "output_type": "execute_result"
    }
   ],
   "source": [
    "links_cursor.execute('''CREATE TABLE links_table (\n",
    "    name TEXT,\n",
    "    link TEXT)''')"
   ]
  },
  {
   "cell_type": "code",
   "execution_count": 6,
   "metadata": {},
   "outputs": [
    {
     "name": "stdout",
     "output_type": "stream",
     "text": [
      "[('name', 'ds573_inquinanti_aria_2004_18'), ('link', 'ad529de1-8398-43e9-bba5-c5012513f23f/resource/82efde46-5354-414b-8826-ba6ada03ac8b/download/ds573_inquinanti_aria_2004-18.csv')]\n",
      "Flow inserted\n",
      "[('name', 'ds28_pop_pro_municipio'), ('link', '9ccef89d-a087-458e-9391-813ccac86e45/resource/5515e83a-ad35-4b0e-a33f-b30d4ef48df0/download/ds28_pop_pro_municipio.csv')]\n",
      "Flow inserted\n",
      "[('name', 'ds205_dati_quartieri_2011_2018'), ('link', 'fcddb7d2-b106-48f5-9a2a-64d3136621dc/resource/084457a7-ec4b-4a6b-b463-d8ab53c64fbb/download/ds205_dati_quartieri_2011_2018.csv')]\n",
      "Flow inserted\n",
      "[('name', 'ds1486_motivo_di_spostamento_per_studio'), ('link', '06fafc33-c6b2-4a6b-8c21-b19149a1e992/resource/0233f674-f2d5-40b7-ad76-fad6e51c67b7/download/ds1486_motivo-di-spostamento-per-studio.csv')]\n",
      "Flow inserted\n",
      "[('name', 'tpl_metrosequenza'), ('link', 'b8eb04e7-4e99-4ba7-9502-c2aecc4f7e11/resource/0555a0ae-9493-46ca-bc3d-65544f4e99b2/download/tpl_metrosequenza.csv')]\n",
      "Flow inserted\n",
      "[('name', 'tpl_metrofermate'), ('link', 'b7344a8f-0ef5-424b-a902-f7f06e32dd67/resource/0f4d4d05-b379-45a4-9a10-412a34708484/download/tpl_metrofermate.csv')]\n",
      "Flow inserted\n",
      "[('name', 'tpl_orari'), ('link', '32112fb0-4c62-4ec0-aef4-e70b05f0fe41/resource/67bbf039-a22b-4ee3-b32e-31735bf1354d/download/tpl_orari.csv')]\n",
      "Flow inserted\n",
      "[('name', 'tpl_metroorari'), ('link', '581f1e5c-cb68-4e12-8d43-4f24828f9a4f/resource/2f8141e5-122e-4b3c-a4b1-562d881f3f6f/download/tpl_metroorari.csv')]\n",
      "Flow inserted\n",
      "[('name', 'tpl_metropercorsi'), ('link', '5d24ff16-26c7-4f3a-98dd-b5b8f0b65003/resource/f3ce3f16-0e13-4136-bbe1-d1b37b612f6f/download/tpl_metropercorsi.csv')]\n",
      "Flow inserted\n",
      "[('name', 'tpl_percorsi'), ('link', '8bfe2015-2669-4796-9940-36b3c155b258/resource/d4408a03-ef86-40df-a4a9-e738d05e03e4/download/tpl_percorsi.csv')]\n",
      "Flow inserted\n",
      "[('name', 'bikemi_stazioni'), ('link', 'cc065002-cd21-4dcb-b84f-bba2fd9e0c86/resource/4c31029c-22c9-49f7-b145-91374feac41c/download/bikemi_stazioni.csv')]\n",
      "Flow inserted\n",
      "[('name', 'ds728_passeggeri_voli_low_cost_e_tradizionali_2008_2020'), ('link', '85124bd2-bf24-4f40-a6cc-72bef2b536c7/resource/87dcb6a5-2a40-4b10-ab8e-d9ddf61b4c93/download/ds728_passeggeri-voli-low-cost-e-tradizionali-2008_2020.csv')]\n",
      "Flow inserted\n",
      "[('name', 'movimenti_aerei_2003_2020'), ('link', '6c4a7171-6ce9-4f17-9937-b708b15ffecf/resource/91011718-94b9-4ae6-850e-fdded6880193/download/movimenti_aerei_2003_2020.csv')]\n",
      "Flow inserted\n",
      "[('name', 'ds45_park_interscambio'), ('link', '411cdd38-56f9-4ff1-b369-a2ed04778d84/resource/5f0b0b2b-e86e-44fe-a4e7-9a21a6b75bc3/download/ds45_park_interscambio.csv')]\n",
      "Flow inserted\n",
      "[('name', 'parco_veicoli_circolanti_suddivisi_per_categoria_2004_2020_2'), ('link', 'cab0923e-3d30-48b0-af54-a5f9405898d5/resource/7d95467d-6981-4c25-b15b-c7b83c4459b5/download/parco-veicoli-circolanti-suddivisi-per-categoria-2004-2020-2.csv')]\n",
      "Flow inserted\n",
      "[('name', 'ds1547_passeggeri_annui_per_abitante'), ('link', '1de620a1-58a9-4c7c-8bbb-5de804ecd834/resource/d53fc1d6-fbc7-4528-bb0f-216561fc9dd0/download/ds1547_passeggeri_annui_per_abitante.csv')]\n",
      "Flow inserted\n",
      "[('name', 'ds178_trafficotrasporti_incidenti_stradali_2001_2020'), ('link', '87f6f364-860f-42a6-9559-eb29e6fa781b/resource/61bb9357-de63-4185-870f-ef737603dc22/download/ds178_trafficotrasporti_incidenti_stradali_2001_2020.csv')]\n",
      "Flow inserted\n",
      "[('name', 'ds177_trafficotrasporti_incidenti_stradali_2001_2020'), ('link', '9f7bcc9c-20a4-4e48-a7cd-99b15ed11102/resource/45b317ca-710a-4a9e-b81b-f380c24d8398/download/ds177_trafficotrasporti_incidenti_stradali_2001-2020.csv')]\n",
      "Flow inserted\n",
      "[('name', 'ds727_passeggeri_aerei_2003_2020'), ('link', '827d2c91-c2d5-4348-a9b6-3f1a6b2e1c1c/resource/f3bb1aef-aad4-431d-9099-05b624bd5b07/download/ds727_passeggeri-aerei-2003_2020.csv')]\n",
      "Flow inserted\n",
      "[('name', 'ds525_movimenti_2003_2021'), ('link', '1a8929e8-ec11-43a5-9bc2-053aff0b0e47/resource/f160fba9-7c1b-40b6-8cc4-e6a468540716/download/ds525_movimenti_2003_2021.csv')]\n",
      "Flow inserted\n",
      "[('name', 'ds79_car_sh'), ('link', '74ec936a-8eaa-4ea3-8ecb-cdb9754b8d05/resource/411990a7-268b-4329-86aa-73eac73172c6/download/ds79_car_sh.csv')]\n",
      "Flow inserted\n",
      "[('name', 'sistema_ferroviario_urbano_layer_0_stazioni__final'), ('link', '802a1d1f-4203-44c9-b9f5-dd8aa1f6bc3c/resource/8f3fd2c6-004b-4e23-8d51-852714ce8230/download/sistema_ferroviario_urbano_layer_0_stazioni__final.csv')]\n",
      "Flow inserted\n",
      "[('name', 'disciplina_aree'), ('link', 'd7d9179a-8228-427f-9c86-1e30154be4fe/resource/3a9418ff-ceb1-436a-aa05-acb5f05166e2/download/disciplina_aree.csv')]\n",
      "Flow inserted\n",
      "[('name', 'bike_ciclabili'), ('link', 'ceda0264-24f3-4869-9a2d-411906f0abab/resource/18b0480e-5e7d-4a7d-902f-30cc76ad4f9f/download/bike_ciclabili.csv')]\n",
      "Flow inserted\n",
      "[('name', 'sosta_ambiti'), ('link', '85ed8636-fbd0-4bf6-aaf7-7f3f2f610d48/resource/a7659f5a-e153-466c-a23d-28f728a5bc7a/download/sosta_ambiti.csv')]\n",
      "Flow inserted\n",
      "[('name', 'ds342_park_pub'), ('link', '2f4246df-2949-4530-909a-9016652cc8f9/resource/ff380c4b-b07a-4cd2-8e47-d451d2c50f17/download/ds342_park_pub.csv')]\n",
      "Flow inserted\n",
      "[('name', 'bike_areesosta'), ('link', '0e2c549c-a329-4b42-aae4-b765182b826a/resource/e7a16dc3-96ba-47e4-a9f5-e350ea87b1ef/download/bike_areesosta.csv')]\n",
      "Flow inserted\n",
      "[('name', 'sosta_turistici'), ('link', 'a2d017e4-8b44-49c4-b1f7-856da9ea74a4/resource/08467d90-9cde-45af-ae68-6d63367895c0/download/sosta_turistici.csv')]\n",
      "Flow inserted\n",
      "[('name', 'dati_sharing_2011_2019_20200703'), ('link', 'f9a2a420-d358-46ef-bced-cf2048864d00/resource/e3a3d46e-9b52-41ac-ae48-789b44f9c58e/download/dati-sharing-2011-2019_20200703.csv')]\n",
      "Flow inserted\n",
      "[('name', 'aree_velim'), ('link', 'b65a6391-273c-44b8-b1b9-13489550f5ce/resource/ed9df488-b4ee-49ba-871b-7100bc42acac/download/aree_velim.csv')]\n",
      "Flow inserted\n",
      "[('name', 'tpl_sequenza'), ('link', 'a42d1ec5-1a9e-43e7-925e-32d7fc976bdd/resource/d4530625-dd71-4e8c-8eb4-bf4e26f2500e/download/tpl_sequenza.csv')]\n",
      "Flow inserted\n",
      "[('name', 'tpl_fermate'), ('link', 'ac494f5d-acd3-4fd3-8cfc-ed24f5c3d923/resource/2a52d51d-66fe-480b-a101-983aa2f6cbc3/download/tpl_fermate.csv')]\n",
      "Flow inserted\n",
      "[('name', 'ds1557_filobus_veicoli_utilizzati'), ('link', 'e688c693-c478-402d-ba25-c9b4a5292cb7/resource/2ba412bc-c38b-4ed0-899f-07f2b6afe221/download/ds1557_filobus_veicoli_utilizzati.csv')]\n",
      "Flow inserted\n",
      "[('name', 'ds1555_autobus_veicoli_utilizzati'), ('link', '2491be01-2880-4b3a-a4bd-d5080da661dc/resource/32c22a41-1bcc-4a5d-a182-7840dfec441c/download/ds1555_autobus_veicoli_utilizzati.csv')]\n",
      "Flow inserted\n",
      "[('name', 'ds1553_filobus_estensione_rete_km'), ('link', '5ec7481f-e15f-459b-83b1-df925e702de6/resource/3011ff83-fa48-4aa3-aa8f-6126c0964ef7/download/ds1553_filobus_estensione-rete_km.csv')]\n",
      "Flow inserted\n",
      "[('name', 'ds1552_filobus_densita_rete'), ('link', 'a5ac1cce-9f95-4cf3-a8ea-5760225e1fe5/resource/fe20b9ab-54f5-4510-8f96-f876045a646a/download/ds1552_filobus_densita-rete.csv')]\n",
      "Flow inserted\n",
      "[('name', 'ds1569_autobus_utilizzati_classe_emissione'), ('link', '580c1a3f-617b-4317-bb64-0991277261a4/resource/6903f9cf-c14d-4585-97b8-9a27756d5ba2/download/ds1569_autobus_utilizzati_classe_emissione.csv')]\n",
      "Flow inserted\n",
      "[('name', 'ds1548_tram_densita_rete'), ('link', 'b81eb5bd-79a8-47d9-9a35-ba226b45b0e5/resource/e8a8e52f-37a2-4b4d-a055-76b9f1a2849b/download/ds1548_tram_densita_rete.csv')]\n",
      "Flow inserted\n",
      "[('name', 'ds1551_metropolitana_estensione_rete_km'), ('link', '3b1507e3-dccc-4d45-b176-b4cf87875630/resource/12ade3fc-aecd-4c34-8c9d-7d4237998bd7/download/ds1551_metropolitana_estensione-rete_km.csv')]\n",
      "Flow inserted\n",
      "[('name', 'ds1549_tram_estensione_rete_km'), ('link', 'ad240683-0839-4600-be7b-8aed8c9d5b4b/resource/8c814597-f0d2-48a2-8c05-c839298592bf/download/ds1549_tram_estensione-rete_km.csv')]\n",
      "Flow inserted\n",
      "[('name', 'ds1550_metropolitana_densita_tpl'), ('link', '31cb6153-eeca-433b-8f3f-99a8467f1a32/resource/68dac7bf-401f-4e51-bbd3-40cfb9c1a225/download/ds1550_metropolitana_densita_tpl.csv')]\n",
      "Flow inserted\n",
      "[('name', 'ds1570_autobus_basse_emissioni'), ('link', 'cdacb96e-42f9-42bd-9776-4d5197b7ed4a/resource/8b6be5f8-e6f0-409f-aa9d-2ea1d2c1bbb9/download/ds1570_autobus_basse_emissioni.csv')]\n",
      "Flow inserted\n",
      "[('name', 'ds1565_tram_vetture_utilizzate'), ('link', 'ebbff75c-3d2a-4d0a-a6bd-e4409b39c02e/resource/68c8fd83-b056-4a34-b3f5-94a498bff978/download/ds1565_tram_vetture_utilizzate.csv')]\n",
      "Flow inserted\n",
      "[('name', 'ds1567_metropolitana_convogli_utilizzati'), ('link', '41ada446-dce3-42b9-af8b-4c6f68f73653/resource/48d93535-9a84-4769-806a-8243df5611eb/download/ds1567_metropolitana_convogli_utilizzati.csv')]\n",
      "Flow inserted\n"
     ]
    }
   ],
   "source": [
    "for dataset_list in datasets:\n",
    "    for dataset in dataset_list:\n",
    "        n = dataset.split('/')[-1].split('.')[0]\n",
    "        ns = n.replace('-', '_')\n",
    "        flow = [(\"name\", ns), (\"link\", dataset)]\n",
    "        print(flow)\n",
    "        links_cursor.execute('''INSERT INTO links_table VALUES (?, ?)''', list(map(lambda x:x[1], flow)))\n",
    "        print('Flow inserted')\n",
    "links_conn.commit()"
   ]
  },
  {
   "cell_type": "code",
   "execution_count": 7,
   "metadata": {},
   "outputs": [],
   "source": [
    "links_cursor.close()\n",
    "links_conn.close()"
   ]
  },
  {
   "cell_type": "markdown",
   "metadata": {},
   "source": [
    "### Storing dataframes"
   ]
  },
  {
   "cell_type": "code",
   "execution_count": 8,
   "metadata": {},
   "outputs": [],
   "source": [
    "def get_df(data:list, path = my_path):\n",
    "    source = path+data\n",
    "    response = requests.request(\"GET\", source)\n",
    "    decoded_response = response.content.decode('unicode_escape')\n",
    "    my_csv = csv.reader(decoded_response.splitlines())\n",
    "    header = next(my_csv)\n",
    "    df = pd.DataFrame(my_csv, columns=header)\n",
    "    return df\n",
    "\n",
    "def get_df_semicolon(data:list, path = my_path):\n",
    "    source = path+data\n",
    "    response = requests.request(\"GET\", source)\n",
    "    decoded_response = response.content.decode('unicode_escape')\n",
    "    my_csv = csv.reader(decoded_response.splitlines(), delimiter=';')\n",
    "    header = next(my_csv)\n",
    "    df = pd.DataFrame(my_csv, columns=header)\n",
    "    return df\n",
    "\n",
    "def get_df_tab(data:list, path = my_path):\n",
    "    source = path+data\n",
    "    response = requests.request(\"GET\", source)\n",
    "    decoded_response = response.content.decode('unicode_escape')\n",
    "    my_csv = csv.reader(decoded_response.splitlines(), delimiter='\\t')\n",
    "    header = next(my_csv)\n",
    "    df = pd.DataFrame(my_csv, columns=header)\n",
    "    return df"
   ]
  },
  {
   "cell_type": "code",
   "execution_count": 9,
   "metadata": {},
   "outputs": [],
   "source": [
    "dfs_conn = sql3.connect('historicalData.db')"
   ]
  },
  {
   "cell_type": "code",
   "execution_count": 10,
   "metadata": {},
   "outputs": [],
   "source": [
    "dfs_cursor = dfs_conn.cursor()"
   ]
  },
  {
   "cell_type": "code",
   "execution_count": 11,
   "metadata": {},
   "outputs": [
    {
     "name": "stderr",
     "output_type": "stream",
     "text": [
      "/var/folders/3q/bxv43fgs5m3b5sgxgq9d7wz80000gn/T/ipykernel_8976/3830460914.py:13: DeprecationWarning: invalid escape sequence '\\ '\n",
      "  decoded_response = response.content.decode('unicode_escape')\n"
     ]
    }
   ],
   "source": [
    "list_of_dfs = []\n",
    "for dataset_list in datasets:\n",
    "    for dataset in dataset_list:\n",
    "        try:\n",
    "            df = get_df_semicolon(dataset)\n",
    "            list_of_dfs.append(df)\n",
    "        except:\n",
    "            df = get_df_tab(dataset)\n",
    "            list_of_dfs.append(df)"
   ]
  },
  {
   "cell_type": "code",
   "execution_count": 12,
   "metadata": {},
   "outputs": [
    {
     "data": {
      "text/plain": [
       "44"
      ]
     },
     "execution_count": 12,
     "metadata": {},
     "output_type": "execute_result"
    }
   ],
   "source": [
    "len(list_of_dfs)"
   ]
  },
  {
   "cell_type": "code",
   "execution_count": 13,
   "metadata": {},
   "outputs": [],
   "source": [
    "list_of_names = []\n",
    "for dataset_list in datasets:\n",
    "    for dataset in dataset_list:\n",
    "        n = dataset.split('/')[-1].split('.')[0]\n",
    "        ns = n.replace('-', '_')\n",
    "        list_of_names.append(ns)"
   ]
  },
  {
   "cell_type": "code",
   "execution_count": 14,
   "metadata": {},
   "outputs": [
    {
     "data": {
      "text/plain": [
       "44"
      ]
     },
     "execution_count": 14,
     "metadata": {},
     "output_type": "execute_result"
    }
   ],
   "source": [
    "len(list_of_names)"
   ]
  },
  {
   "cell_type": "code",
   "execution_count": 15,
   "metadata": {},
   "outputs": [
    {
     "name": "stdout",
     "output_type": "stream",
     "text": [
      "['ds573_inquinanti_aria_2004_18', 'ds28_pop_pro_municipio', 'ds205_dati_quartieri_2011_2018', 'ds1486_motivo_di_spostamento_per_studio', 'tpl_metrosequenza', 'tpl_metrofermate', 'tpl_orari', 'tpl_metroorari', 'tpl_metropercorsi', 'tpl_percorsi', 'bikemi_stazioni', 'ds728_passeggeri_voli_low_cost_e_tradizionali_2008_2020', 'movimenti_aerei_2003_2020', 'ds45_park_interscambio', 'parco_veicoli_circolanti_suddivisi_per_categoria_2004_2020_2', 'ds1547_passeggeri_annui_per_abitante', 'ds178_trafficotrasporti_incidenti_stradali_2001_2020', 'ds177_trafficotrasporti_incidenti_stradali_2001_2020', 'ds727_passeggeri_aerei_2003_2020', 'ds525_movimenti_2003_2021', 'ds79_car_sh', 'sistema_ferroviario_urbano_layer_0_stazioni__final', 'disciplina_aree', 'bike_ciclabili', 'sosta_ambiti', 'ds342_park_pub', 'bike_areesosta', 'sosta_turistici', 'dati_sharing_2011_2019_20200703', 'aree_velim', 'tpl_sequenza', 'tpl_fermate', 'ds1557_filobus_veicoli_utilizzati', 'ds1555_autobus_veicoli_utilizzati', 'ds1553_filobus_estensione_rete_km', 'ds1552_filobus_densita_rete', 'ds1569_autobus_utilizzati_classe_emissione', 'ds1548_tram_densita_rete', 'ds1551_metropolitana_estensione_rete_km', 'ds1549_tram_estensione_rete_km', 'ds1550_metropolitana_densita_tpl', 'ds1570_autobus_basse_emissioni', 'ds1565_tram_vetture_utilizzate', 'ds1567_metropolitana_convogli_utilizzati']\n"
     ]
    }
   ],
   "source": [
    "print(list_of_names)"
   ]
  },
  {
   "cell_type": "code",
   "execution_count": 16,
   "metadata": {},
   "outputs": [
    {
     "name": "stderr",
     "output_type": "stream",
     "text": [
      "/Library/Frameworks/Python.framework/Versions/3.9/lib/python3.9/site-packages/pandas/core/generic.py:2869: UserWarning: The spaces in these column names will not be changed. In pandas versions < 0.14, spaces were converted to underscores.\n",
      "  sql.to_sql(\n"
     ]
    }
   ],
   "source": [
    "dfs_conn = sql3.connect('historicalData.db')\n",
    "dfs_cursor = dfs_conn.cursor()\n",
    "\n",
    "for name, df in zip(list_of_names, list_of_dfs):\n",
    "    df.to_sql(name, dfs_conn, if_exists='replace', index=False)"
   ]
  },
  {
   "cell_type": "code",
   "execution_count": 17,
   "metadata": {},
   "outputs": [],
   "source": [
    "tables = dfs_cursor.execute(\"SELECT name FROM sqlite_schema WHERE type='table' ORDER BY name;\")"
   ]
  },
  {
   "cell_type": "code",
   "execution_count": 18,
   "metadata": {},
   "outputs": [
    {
     "name": "stdout",
     "output_type": "stream",
     "text": [
      "aree_velim\n",
      "bike_areesosta\n",
      "bike_ciclabili\n",
      "bikemi_stazioni\n",
      "dati_sharing_2011_2019_20200703\n",
      "disciplina_aree\n",
      "ds1486_motivo_di_spostamento_per_studio\n",
      "ds1547_passeggeri_annui_per_abitante\n",
      "ds1548_tram_densita_rete\n",
      "ds1549_tram_estensione_rete_km\n",
      "ds1550_metropolitana_densita_tpl\n",
      "ds1551_metropolitana_estensione_rete_km\n",
      "ds1552_filobus_densita_rete\n",
      "ds1553_filobus_estensione_rete_km\n",
      "ds1555_autobus_veicoli_utilizzati\n",
      "ds1557_filobus_veicoli_utilizzati\n",
      "ds1565_tram_vetture_utilizzate\n",
      "ds1567_metropolitana_convogli_utilizzati\n",
      "ds1569_autobus_utilizzati_classe_emissione\n",
      "ds1570_autobus_basse_emissioni\n",
      "ds177_trafficotrasporti_incidenti_stradali_2001_2020\n",
      "ds178_trafficotrasporti_incidenti_stradali_2001_2020\n",
      "ds205_dati_quartieri_2011_2018\n",
      "ds28_pop_pro_municipio\n",
      "ds342_park_pub\n",
      "ds45_park_interscambio\n",
      "ds525_movimenti_2003_2021\n",
      "ds573_inquinanti_aria_2004_18\n",
      "ds727_passeggeri_aerei_2003_2020\n",
      "ds728_passeggeri_voli_low_cost_e_tradizionali_2008_2020\n",
      "ds79_car_sh\n",
      "movimenti_aerei_2003_2020\n",
      "parco_veicoli_circolanti_suddivisi_per_categoria_2004_2020_2\n",
      "sistema_ferroviario_urbano_layer_0_stazioni__final\n",
      "sosta_ambiti\n",
      "sosta_turistici\n",
      "tpl_fermate\n",
      "tpl_metrofermate\n",
      "tpl_metroorari\n",
      "tpl_metropercorsi\n",
      "tpl_metrosequenza\n",
      "tpl_orari\n",
      "tpl_percorsi\n",
      "tpl_sequenza\n"
     ]
    }
   ],
   "source": [
    "for t in tables.fetchall():\n",
    "    print(t[0])"
   ]
  },
  {
   "cell_type": "code",
   "execution_count": 19,
   "metadata": {},
   "outputs": [],
   "source": [
    "dfs_cursor.close()\n",
    "dfs_conn.close()"
   ]
  },
  {
   "cell_type": "markdown",
   "metadata": {},
   "source": [
    "## Retrieving historical data"
   ]
  },
  {
   "cell_type": "markdown",
   "metadata": {},
   "source": [
    "### Retrieving dataframes"
   ]
  },
  {
   "cell_type": "code",
   "execution_count": 20,
   "metadata": {},
   "outputs": [],
   "source": [
    "def to_csv(database):\n",
    "    csv_names = []\n",
    "    db = sql3.connect(database)\n",
    "    cursor = db.cursor()\n",
    "    cursor.execute(\"SELECT name FROM sqlite_master WHERE type='table';\")\n",
    "    tables = cursor.fetchall()\n",
    "    for table_name in tables:\n",
    "        table_name = table_name[0]\n",
    "        csv_name = table_name + '.csv'\n",
    "        csv_names.append(csv_name)\n",
    "        table = pd.read_sql_query(\"SELECT * from %s\" % table_name, db)\n",
    "        table.to_csv(csv_name, index_label='index')\n",
    "    cursor.close()\n",
    "    db.close()\n",
    "    return csv_names"
   ]
  },
  {
   "cell_type": "code",
   "execution_count": 21,
   "metadata": {},
   "outputs": [],
   "source": [
    "csvs = to_csv('historicalData.db')"
   ]
  },
  {
   "cell_type": "code",
   "execution_count": 22,
   "metadata": {},
   "outputs": [
    {
     "name": "stdout",
     "output_type": "stream",
     "text": [
      "ds573_inquinanti_aria_2004_18.csv\n",
      "ds28_pop_pro_municipio.csv\n",
      "ds205_dati_quartieri_2011_2018.csv\n",
      "ds1486_motivo_di_spostamento_per_studio.csv\n",
      "tpl_metrosequenza.csv\n",
      "tpl_metrofermate.csv\n",
      "tpl_orari.csv\n",
      "tpl_metroorari.csv\n",
      "tpl_metropercorsi.csv\n",
      "tpl_percorsi.csv\n",
      "bikemi_stazioni.csv\n",
      "ds728_passeggeri_voli_low_cost_e_tradizionali_2008_2020.csv\n",
      "movimenti_aerei_2003_2020.csv\n",
      "ds45_park_interscambio.csv\n",
      "parco_veicoli_circolanti_suddivisi_per_categoria_2004_2020_2.csv\n",
      "ds1547_passeggeri_annui_per_abitante.csv\n",
      "ds178_trafficotrasporti_incidenti_stradali_2001_2020.csv\n",
      "ds177_trafficotrasporti_incidenti_stradali_2001_2020.csv\n",
      "ds727_passeggeri_aerei_2003_2020.csv\n",
      "ds525_movimenti_2003_2021.csv\n",
      "ds79_car_sh.csv\n",
      "sistema_ferroviario_urbano_layer_0_stazioni__final.csv\n",
      "disciplina_aree.csv\n",
      "bike_ciclabili.csv\n",
      "sosta_ambiti.csv\n",
      "ds342_park_pub.csv\n",
      "bike_areesosta.csv\n",
      "sosta_turistici.csv\n",
      "dati_sharing_2011_2019_20200703.csv\n",
      "aree_velim.csv\n",
      "tpl_sequenza.csv\n",
      "tpl_fermate.csv\n",
      "ds1557_filobus_veicoli_utilizzati.csv\n",
      "ds1555_autobus_veicoli_utilizzati.csv\n",
      "ds1553_filobus_estensione_rete_km.csv\n",
      "ds1552_filobus_densita_rete.csv\n",
      "ds1569_autobus_utilizzati_classe_emissione.csv\n",
      "ds1548_tram_densita_rete.csv\n",
      "ds1551_metropolitana_estensione_rete_km.csv\n",
      "ds1549_tram_estensione_rete_km.csv\n",
      "ds1550_metropolitana_densita_tpl.csv\n",
      "ds1570_autobus_basse_emissioni.csv\n",
      "ds1565_tram_vetture_utilizzate.csv\n",
      "ds1567_metropolitana_convogli_utilizzati.csv\n"
     ]
    }
   ],
   "source": [
    "for c in csvs:\n",
    "    print(c)"
   ]
  },
  {
   "cell_type": "code",
   "execution_count": 23,
   "metadata": {},
   "outputs": [
    {
     "name": "stdout",
     "output_type": "stream",
     "text": [
      "ds573_inquinanti_aria_2004_18.csv\n",
      "Columns' names: ['index', 'anno_rilevamento_inquinanti_aria', 'inquinanti_aria_tipologia', 'inquinanti_aria_indicatori', 'inquinanti_aria']\n",
      "-------------------------------------------------------------\n",
      "ds28_pop_pro_municipio.csv\n",
      "Columns' names: ['index', 'Anno', 'Municipio', 'Eta', 'Genere', 'Ipotesi_alta', 'Ipotesi_media', 'Ipotesi_bassa']\n",
      "-------------------------------------------------------------\n",
      "ds205_dati_quartieri_2011_2018.csv\n",
      "Columns' names: ['index', 'Anno', 'Quartiere', 'NIL', 'Uomini', 'Donne', 'Totale', 'Minori', 'Stranieri', 'Famiglie', 'Famiglie unipersonali', '80 e piÃ¹ soli', 'Nati', 'Nati fuori dal matrimonio', 'Nati con almeno un genitore straniero', 'Morti', 'Emigrati', 'Immigrati', '80 e piÃ¹', '65 e piÃ¹', 'Prima cittadinanza', 'residenti prima cittadinanza', 'Seconda cittadinanza', 'residenti seconda cittadinanza', 'Terza cittadinanza', 'residenti terza cittadinanza', \"Scuola dell'infanzia (numero)\", 'Scuola primaria (numero)', 'Scuola secondaria di primo grado (numero)', 'Area (metri quadrati)', 'fermate linee superficie', 'fermate metro', 'piste ciclabili (m)']\n",
      "-------------------------------------------------------------\n",
      "ds1486_motivo_di_spostamento_per_studio.csv\n",
      "Columns' names: ['index', 'Id_NIL', 'NIL', 'Motivo spostamenti', 'Valore']\n",
      "-------------------------------------------------------------\n",
      "tpl_metrosequenza.csv\n",
      "Columns' names: ['index', 'percorso', 'num', 'id_ferm']\n",
      "-------------------------------------------------------------\n",
      "tpl_metrofermate.csv\n",
      "Columns' names: ['index', 'id_amat', 'nome', 'linee', 'LONG_X_4326', 'LAT_Y_4326', 'Location']\n",
      "-------------------------------------------------------------\n",
      "tpl_orari.csv\n",
      "Columns' names: ['index', 'linea', 'mezzo', 'percorso', 'orario', 'tipo_giorno', 'inizio', 'fine', 'corse_gior', 'corse_punt', 'corse_morb', 'corse_sera']\n",
      "-------------------------------------------------------------\n",
      "tpl_metroorari.csv\n",
      "Columns' names: ['index', 'linea', 'mezzo', 'percorso', 'orario', 'tipo_giorno', 'inizio', 'fine', 'corse_gior', 'corse_punt', 'corse_morb', 'corse_sera']\n",
      "-------------------------------------------------------------\n",
      "tpl_metropercorsi.csv\n",
      "Columns' names: ['index', 'linea', 'mezzo', 'percorso', 'nome', 'lung_km', 'num_ferm', 'LONG_X_4326_CENTROID', 'LAT_Y_4326_CENTROID', 'Location']\n",
      "-------------------------------------------------------------\n",
      "tpl_percorsi.csv\n",
      "Columns' names: ['index', 'linea', 'mezzo', 'percorso', 'verso', 'nome', 'tipo_perc', 'lung_km', 'num_ferm', 'LONG_X_4326_CENTROID', 'LAT_Y_4326_CENTROID', 'Location']\n",
      "-------------------------------------------------------------\n",
      "bikemi_stazioni.csv\n",
      "Columns' names: ['index', 'id_amat', 'stato', 'numero', 'nome', 'tipo', 'stalli', 'sede', 'id_via', 'indirizzo', 'civico', 'zd_attuale', 'anno', 'LONG_X_4326', 'LAT_Y_4326', 'Location']\n",
      "-------------------------------------------------------------\n",
      "ds728_passeggeri_voli_low_cost_e_tradizionali_2008_2020.csv\n",
      "Columns' names: ['index', 'anno', 'scalo', 'voli low cost', 'voli tradizionali']\n",
      "-------------------------------------------------------------\n",
      "movimenti_aerei_2003_2020.csv\n",
      "Columns' names: ['index', 'anno', 'scalo', 'nazionali/internazionali', 'arrivi/partenze', 'numero']\n",
      "-------------------------------------------------------------\n",
      "ds45_park_interscambio.csv\n",
      "Columns' names: ['index', 'Nome', 'TAB1', 'INFO', 'Zona', 'indirizzo', 'LONG_X_4326', 'LAT_Y_4326', 'Location']\n",
      "-------------------------------------------------------------\n",
      "parco_veicoli_circolanti_suddivisi_per_categoria_2004_2020_2.csv\n",
      "Columns' names: ['index', 'Anno', 'AUTOBUS', 'AUTOCARRI TRASPORTO MERCI', 'AUTOVEICOLI SPECIALI - SPECIFICI', 'AUTOVETTURE', 'MOTOCARRI E QUADRICICLI TRASPORTO MERCI', 'MOTOCICLI', 'MOTOVEICOLI E QUADRICICLI SPECIALI - SPECIFICI', 'RIMORCHI E SEMIRIMORCHI Â\\xa0SPECIALI - SPECIFICI', 'RIMORCHI E SEMIRIMORCHI Â\\xa0TRASPORTO MERCI', 'TRATTORI STRADALI O MOTRICI', 'ALTRI VEICOLI']\n",
      "-------------------------------------------------------------\n",
      "ds1547_passeggeri_annui_per_abitante.csv\n",
      "Columns' names: ['index', 'Anno', 'Domanda di TPL - Passeggeri annui per abitante']\n",
      "-------------------------------------------------------------\n",
      "ds178_trafficotrasporti_incidenti_stradali_2001_2020.csv\n",
      "Columns' names: ['index', 'Anno', 'Mese', 'Cerchia', 'Incidenti', 'Morti', 'Feriti']\n",
      "-------------------------------------------------------------\n",
      "ds177_trafficotrasporti_incidenti_stradali_2001_2020.csv\n",
      "Columns' names: ['index', 'Anno', 'Mese', 'Municipio', 'Incidenti', 'Feriti', 'Morti']\n",
      "-------------------------------------------------------------\n",
      "ds727_passeggeri_aerei_2003_2020.csv\n",
      "Columns' names: ['index', 'anno', 'scalo', 'nazionali/internazionali', 'arrivi/partenze', 'numero']\n",
      "-------------------------------------------------------------\n",
      "ds525_movimenti_2003_2021.csv\n",
      "Columns' names: ['index', 'ANNO', 'Aeroporto', 'Arrivi', 'Partenze', 'Di linea', 'Non di linea']\n",
      "-------------------------------------------------------------\n",
      "ds79_car_sh.csv\n",
      "Columns' names: ['index', 'ID', 'AREA_SOSTA', 'LOCALIZ', 'ZONA', 'COMUNE', 'POSTI_AUTO', 'SERVIZIO', 'LONG_X_4326', 'LAT_Y_4326', 'Location']\n",
      "-------------------------------------------------------------\n",
      "sistema_ferroviario_urbano_layer_0_stazioni__final.csv\n",
      "Columns' names: ['index', 'Stazione', 'Ubicazione', 'Linee', 'Note', 'MUNICIPIO', 'ID_NIL', 'NIL', 'LONG_X_4326', 'LAT_Y_4326', 'Location']\n",
      "-------------------------------------------------------------\n",
      "disciplina_aree.csv\n",
      "Columns' names: ['index', 'id_amat', 'tipo', 'nome', 'gruppo_id', 'ordinanza', 'deroghe', 'val_inizio', 'val_fine', 'delibera', 'tratto', 'note', 'cartello', 'dissuasori', 'LONG_X_4326_CENTROID', 'LAT_Y_4326_CENTROID', 'Location']\n",
      "-------------------------------------------------------------\n",
      "bike_ciclabili.csv\n",
      "Columns' names: ['index', 'id_amat', 'id_via', 'anagrafica', 'gerarchia', 'rete', 'tipologia', 'sede', 'marcia', 'norma', 'lunghezza', 'LONG_X_4326_CENTROID', 'LAT_Y_4326_CENTROID', 'Location']\n",
      "-------------------------------------------------------------\n",
      "sosta_ambiti.csv\n",
      "Columns' names: ['index', 'ambito', 'costo_g', 'costo_s', 'res_giorno', 'res_sera', 'tipo_sosta', 'delibera', 'data', 'inizio_g', 'fine_g', 'inizio_s', 'fine_s', 'euro_h_g', 'euro_h_g_2', 'euro_h_s', 'euro_h_s_2', 'durata_g_1', 'durata_s_1', 'posti_pagamento', 'posti_residenti', 'nome', 'LONG_X_4326_CENTROID', 'LAT_Y_4326_CENTROID', 'Location']\n",
      "-------------------------------------------------------------\n",
      "ds342_park_pub.csv\n",
      "Columns' names: ['index', 'id', 'nome', 'n_posti', 'indirizzo', 'comune', 'tipo', 'LONG_X_4326', 'LAT_Y_4326', 'Location']\n",
      "-------------------------------------------------------------\n",
      "bike_areesosta.csv\n",
      "Columns' names: ['index', 'id_amat', 'id_via', 'num_civico', 'municipio', 'stato', 'categorieveicoli', 'numero_manufatti', 'stalli_per_manufatto', 'stalli_totali', 'tipomanufatto', 'ubicazione', 'LONG_X_4326', 'LAT_Y_4326', 'Location']\n",
      "-------------------------------------------------------------\n",
      "sosta_turistici.csv\n",
      "Columns' names: ['index', 'id_amat', 'tipo_sosta', 'via_id', 'localizzaz', 'num_stalli', 'tipologia', 'note', 'regole', 'costo_ora', 'num_prog', 'provenienza', 'LONG_X_4326', 'LAT_Y_4326', 'Location']\n",
      "-------------------------------------------------------------\n",
      "dati_sharing_2011_2019_20200703.csv\n",
      "Columns' names: ['index', 'anno', 'sharing_veicoli', 'sharing_veicoli_tipologia', 'sharing_veicoli_indicatori', 'sharing_veicoli_valore', 'note']\n",
      "-------------------------------------------------------------\n",
      "aree_velim.csv\n",
      "Columns' names: ['index', 'id_amat', 'via_id', 'nome_via', 'tratto', 'ordinanza', 'data_ord', 'tipo_ord', 'info_ord', 'zona', 'limite', 'residenzia', 'anno', 'aggiorn', 'mq', 'note', 'LONG_X_4326_CENTROID', 'LAT_Y_4326_CENTROID', 'Location']\n",
      "-------------------------------------------------------------\n",
      "tpl_sequenza.csv\n",
      "Columns' names: ['index', 'percorso', 'num', 'id_ferm']\n",
      "-------------------------------------------------------------\n",
      "tpl_fermate.csv\n",
      "Columns' names: ['index', 'id_amat', 'ubicazione', 'linee', 'LONG_X_4326', 'LAT_Y_4326', 'Location']\n",
      "-------------------------------------------------------------\n",
      "ds1557_filobus_veicoli_utilizzati.csv\n",
      "Columns' names: ['index', 'Anno', 'Filobus utilizzati']\n",
      "-------------------------------------------------------------\n",
      "ds1555_autobus_veicoli_utilizzati.csv\n",
      "Columns' names: ['index', 'Anno', 'Autobus utilizzati']\n",
      "-------------------------------------------------------------\n",
      "ds1553_filobus_estensione_rete_km.csv\n",
      "Columns' names: ['index', 'Anno', 'Estensione rete filobus in Km']\n",
      "-------------------------------------------------------------\n",
      "ds1552_filobus_densita_rete.csv\n",
      "Columns' names: ['index', 'Anno', \"Densita' rete filobus - Km per 100 Km2 di sup. urbanizzata\"]\n",
      "-------------------------------------------------------------\n",
      "ds1569_autobus_utilizzati_classe_emissione.csv\n",
      "Columns' names: ['index', 'Anno', 'Classe di emissione', 'Autobus utilizzati']\n",
      "-------------------------------------------------------------\n",
      "ds1548_tram_densita_rete.csv\n",
      "Columns' names: ['index', 'Anno', \"Densita' rete tram - Km per 100 Km2 di sup. urbanizzata\"]\n",
      "-------------------------------------------------------------\n",
      "ds1551_metropolitana_estensione_rete_km.csv\n",
      "Columns' names: ['index', 'Anno', 'Estensione rete metropolitana in Km']\n",
      "-------------------------------------------------------------\n",
      "ds1549_tram_estensione_rete_km.csv\n",
      "Columns' names: ['index', 'Anno', 'Estensione rete tram in Km']\n",
      "-------------------------------------------------------------\n",
      "ds1550_metropolitana_densita_tpl.csv\n",
      "Columns' names: ['index', 'Anno', \"Densita' rete metropolitana - Km per 100 Km2 di sup. urbanizz.\"]\n",
      "-------------------------------------------------------------\n",
      "ds1570_autobus_basse_emissioni.csv\n",
      "Columns' names: ['index', 'Anno', 'Autobus a basse emissioni - indicatore per 100 autobus', 'Autobus a basse emissioni - valore assoluto']\n",
      "-------------------------------------------------------------\n",
      "ds1565_tram_vetture_utilizzate.csv\n",
      "Columns' names: ['index', 'Anno', 'Vetture tram utilizzate']\n",
      "-------------------------------------------------------------\n",
      "ds1567_metropolitana_convogli_utilizzati.csv\n",
      "Columns' names: ['index', 'Anno', 'Convogli metropolitana utilizzati']\n",
      "-------------------------------------------------------------\n"
     ]
    }
   ],
   "source": [
    "for c in csvs:\n",
    "    df = pd.read_csv(c)\n",
    "    print(c)\n",
    "    print(f'Columns\\' names: {list(df.columns)}')\n",
    "    print('-------------------------------------------------------------')"
   ]
  },
  {
   "cell_type": "markdown",
   "metadata": {},
   "source": [
    "### Retrieving links"
   ]
  },
  {
   "cell_type": "code",
   "execution_count": 37,
   "metadata": {},
   "outputs": [],
   "source": [
    "links_conn = sql3.connect('historicalLinks.db', timeout=60)\n",
    "links_cursor = links_conn.cursor()"
   ]
  },
  {
   "cell_type": "code",
   "execution_count": 38,
   "metadata": {},
   "outputs": [],
   "source": [
    "links = links_cursor.execute('SELECT * FROM links_table;')"
   ]
  },
  {
   "cell_type": "code",
   "execution_count": 35,
   "metadata": {},
   "outputs": [
    {
     "name": "stdout",
     "output_type": "stream",
     "text": [
      "ds573_inquinanti_aria_2004_18\n",
      "ds28_pop_pro_municipio\n",
      "ds205_dati_quartieri_2011_2018\n",
      "ds1486_motivo_di_spostamento_per_studio\n",
      "tpl_metrosequenza\n",
      "tpl_metrofermate\n",
      "tpl_orari\n",
      "tpl_metroorari\n",
      "tpl_metropercorsi\n",
      "tpl_percorsi\n",
      "bikemi_stazioni\n",
      "ds728_passeggeri_voli_low_cost_e_tradizionali_2008_2020\n",
      "movimenti_aerei_2003_2020\n",
      "ds45_park_interscambio\n",
      "parco_veicoli_circolanti_suddivisi_per_categoria_2004_2020_2\n",
      "ds1547_passeggeri_annui_per_abitante\n",
      "ds178_trafficotrasporti_incidenti_stradali_2001_2020\n",
      "ds177_trafficotrasporti_incidenti_stradali_2001_2020\n",
      "ds727_passeggeri_aerei_2003_2020\n",
      "ds525_movimenti_2003_2021\n",
      "ds79_car_sh\n",
      "sistema_ferroviario_urbano_layer_0_stazioni__final\n",
      "disciplina_aree\n",
      "bike_ciclabili\n",
      "sosta_ambiti\n",
      "ds342_park_pub\n",
      "bike_areesosta\n",
      "sosta_turistici\n",
      "dati_sharing_2011_2019_20200703\n",
      "aree_velim\n",
      "tpl_sequenza\n",
      "tpl_fermate\n",
      "ds1557_filobus_veicoli_utilizzati\n",
      "ds1555_autobus_veicoli_utilizzati\n",
      "ds1553_filobus_estensione_rete_km\n",
      "ds1552_filobus_densita_rete\n",
      "ds1569_autobus_utilizzati_classe_emissione\n",
      "ds1548_tram_densita_rete\n",
      "ds1551_metropolitana_estensione_rete_km\n",
      "ds1549_tram_estensione_rete_km\n",
      "ds1550_metropolitana_densita_tpl\n",
      "ds1570_autobus_basse_emissioni\n",
      "ds1565_tram_vetture_utilizzate\n",
      "ds1567_metropolitana_convogli_utilizzati\n"
     ]
    }
   ],
   "source": [
    "for l in links.fetchall():\n",
    "    print(l[0])"
   ]
  },
  {
   "cell_type": "code",
   "execution_count": 39,
   "metadata": {},
   "outputs": [
    {
     "name": "stdout",
     "output_type": "stream",
     "text": [
      "('ds573_inquinanti_aria_2004_18', 'ad529de1-8398-43e9-bba5-c5012513f23f/resource/82efde46-5354-414b-8826-ba6ada03ac8b/download/ds573_inquinanti_aria_2004-18.csv')\n",
      "('ds28_pop_pro_municipio', '9ccef89d-a087-458e-9391-813ccac86e45/resource/5515e83a-ad35-4b0e-a33f-b30d4ef48df0/download/ds28_pop_pro_municipio.csv')\n",
      "('ds205_dati_quartieri_2011_2018', 'fcddb7d2-b106-48f5-9a2a-64d3136621dc/resource/084457a7-ec4b-4a6b-b463-d8ab53c64fbb/download/ds205_dati_quartieri_2011_2018.csv')\n",
      "('ds1486_motivo_di_spostamento_per_studio', '06fafc33-c6b2-4a6b-8c21-b19149a1e992/resource/0233f674-f2d5-40b7-ad76-fad6e51c67b7/download/ds1486_motivo-di-spostamento-per-studio.csv')\n",
      "('tpl_metrosequenza', 'b8eb04e7-4e99-4ba7-9502-c2aecc4f7e11/resource/0555a0ae-9493-46ca-bc3d-65544f4e99b2/download/tpl_metrosequenza.csv')\n",
      "('tpl_metrofermate', 'b7344a8f-0ef5-424b-a902-f7f06e32dd67/resource/0f4d4d05-b379-45a4-9a10-412a34708484/download/tpl_metrofermate.csv')\n",
      "('tpl_orari', '32112fb0-4c62-4ec0-aef4-e70b05f0fe41/resource/67bbf039-a22b-4ee3-b32e-31735bf1354d/download/tpl_orari.csv')\n",
      "('tpl_metroorari', '581f1e5c-cb68-4e12-8d43-4f24828f9a4f/resource/2f8141e5-122e-4b3c-a4b1-562d881f3f6f/download/tpl_metroorari.csv')\n",
      "('tpl_metropercorsi', '5d24ff16-26c7-4f3a-98dd-b5b8f0b65003/resource/f3ce3f16-0e13-4136-bbe1-d1b37b612f6f/download/tpl_metropercorsi.csv')\n",
      "('tpl_percorsi', '8bfe2015-2669-4796-9940-36b3c155b258/resource/d4408a03-ef86-40df-a4a9-e738d05e03e4/download/tpl_percorsi.csv')\n",
      "('bikemi_stazioni', 'cc065002-cd21-4dcb-b84f-bba2fd9e0c86/resource/4c31029c-22c9-49f7-b145-91374feac41c/download/bikemi_stazioni.csv')\n",
      "('ds728_passeggeri_voli_low_cost_e_tradizionali_2008_2020', '85124bd2-bf24-4f40-a6cc-72bef2b536c7/resource/87dcb6a5-2a40-4b10-ab8e-d9ddf61b4c93/download/ds728_passeggeri-voli-low-cost-e-tradizionali-2008_2020.csv')\n",
      "('movimenti_aerei_2003_2020', '6c4a7171-6ce9-4f17-9937-b708b15ffecf/resource/91011718-94b9-4ae6-850e-fdded6880193/download/movimenti_aerei_2003_2020.csv')\n",
      "('ds45_park_interscambio', '411cdd38-56f9-4ff1-b369-a2ed04778d84/resource/5f0b0b2b-e86e-44fe-a4e7-9a21a6b75bc3/download/ds45_park_interscambio.csv')\n",
      "('parco_veicoli_circolanti_suddivisi_per_categoria_2004_2020_2', 'cab0923e-3d30-48b0-af54-a5f9405898d5/resource/7d95467d-6981-4c25-b15b-c7b83c4459b5/download/parco-veicoli-circolanti-suddivisi-per-categoria-2004-2020-2.csv')\n",
      "('ds1547_passeggeri_annui_per_abitante', '1de620a1-58a9-4c7c-8bbb-5de804ecd834/resource/d53fc1d6-fbc7-4528-bb0f-216561fc9dd0/download/ds1547_passeggeri_annui_per_abitante.csv')\n",
      "('ds178_trafficotrasporti_incidenti_stradali_2001_2020', '87f6f364-860f-42a6-9559-eb29e6fa781b/resource/61bb9357-de63-4185-870f-ef737603dc22/download/ds178_trafficotrasporti_incidenti_stradali_2001_2020.csv')\n",
      "('ds177_trafficotrasporti_incidenti_stradali_2001_2020', '9f7bcc9c-20a4-4e48-a7cd-99b15ed11102/resource/45b317ca-710a-4a9e-b81b-f380c24d8398/download/ds177_trafficotrasporti_incidenti_stradali_2001-2020.csv')\n",
      "('ds727_passeggeri_aerei_2003_2020', '827d2c91-c2d5-4348-a9b6-3f1a6b2e1c1c/resource/f3bb1aef-aad4-431d-9099-05b624bd5b07/download/ds727_passeggeri-aerei-2003_2020.csv')\n",
      "('ds525_movimenti_2003_2021', '1a8929e8-ec11-43a5-9bc2-053aff0b0e47/resource/f160fba9-7c1b-40b6-8cc4-e6a468540716/download/ds525_movimenti_2003_2021.csv')\n",
      "('ds79_car_sh', '74ec936a-8eaa-4ea3-8ecb-cdb9754b8d05/resource/411990a7-268b-4329-86aa-73eac73172c6/download/ds79_car_sh.csv')\n",
      "('sistema_ferroviario_urbano_layer_0_stazioni__final', '802a1d1f-4203-44c9-b9f5-dd8aa1f6bc3c/resource/8f3fd2c6-004b-4e23-8d51-852714ce8230/download/sistema_ferroviario_urbano_layer_0_stazioni__final.csv')\n",
      "('disciplina_aree', 'd7d9179a-8228-427f-9c86-1e30154be4fe/resource/3a9418ff-ceb1-436a-aa05-acb5f05166e2/download/disciplina_aree.csv')\n",
      "('bike_ciclabili', 'ceda0264-24f3-4869-9a2d-411906f0abab/resource/18b0480e-5e7d-4a7d-902f-30cc76ad4f9f/download/bike_ciclabili.csv')\n",
      "('sosta_ambiti', '85ed8636-fbd0-4bf6-aaf7-7f3f2f610d48/resource/a7659f5a-e153-466c-a23d-28f728a5bc7a/download/sosta_ambiti.csv')\n",
      "('ds342_park_pub', '2f4246df-2949-4530-909a-9016652cc8f9/resource/ff380c4b-b07a-4cd2-8e47-d451d2c50f17/download/ds342_park_pub.csv')\n",
      "('bike_areesosta', '0e2c549c-a329-4b42-aae4-b765182b826a/resource/e7a16dc3-96ba-47e4-a9f5-e350ea87b1ef/download/bike_areesosta.csv')\n",
      "('sosta_turistici', 'a2d017e4-8b44-49c4-b1f7-856da9ea74a4/resource/08467d90-9cde-45af-ae68-6d63367895c0/download/sosta_turistici.csv')\n",
      "('dati_sharing_2011_2019_20200703', 'f9a2a420-d358-46ef-bced-cf2048864d00/resource/e3a3d46e-9b52-41ac-ae48-789b44f9c58e/download/dati-sharing-2011-2019_20200703.csv')\n",
      "('aree_velim', 'b65a6391-273c-44b8-b1b9-13489550f5ce/resource/ed9df488-b4ee-49ba-871b-7100bc42acac/download/aree_velim.csv')\n",
      "('tpl_sequenza', 'a42d1ec5-1a9e-43e7-925e-32d7fc976bdd/resource/d4530625-dd71-4e8c-8eb4-bf4e26f2500e/download/tpl_sequenza.csv')\n",
      "('tpl_fermate', 'ac494f5d-acd3-4fd3-8cfc-ed24f5c3d923/resource/2a52d51d-66fe-480b-a101-983aa2f6cbc3/download/tpl_fermate.csv')\n",
      "('ds1557_filobus_veicoli_utilizzati', 'e688c693-c478-402d-ba25-c9b4a5292cb7/resource/2ba412bc-c38b-4ed0-899f-07f2b6afe221/download/ds1557_filobus_veicoli_utilizzati.csv')\n",
      "('ds1555_autobus_veicoli_utilizzati', '2491be01-2880-4b3a-a4bd-d5080da661dc/resource/32c22a41-1bcc-4a5d-a182-7840dfec441c/download/ds1555_autobus_veicoli_utilizzati.csv')\n",
      "('ds1553_filobus_estensione_rete_km', '5ec7481f-e15f-459b-83b1-df925e702de6/resource/3011ff83-fa48-4aa3-aa8f-6126c0964ef7/download/ds1553_filobus_estensione-rete_km.csv')\n",
      "('ds1552_filobus_densita_rete', 'a5ac1cce-9f95-4cf3-a8ea-5760225e1fe5/resource/fe20b9ab-54f5-4510-8f96-f876045a646a/download/ds1552_filobus_densita-rete.csv')\n",
      "('ds1569_autobus_utilizzati_classe_emissione', '580c1a3f-617b-4317-bb64-0991277261a4/resource/6903f9cf-c14d-4585-97b8-9a27756d5ba2/download/ds1569_autobus_utilizzati_classe_emissione.csv')\n",
      "('ds1548_tram_densita_rete', 'b81eb5bd-79a8-47d9-9a35-ba226b45b0e5/resource/e8a8e52f-37a2-4b4d-a055-76b9f1a2849b/download/ds1548_tram_densita_rete.csv')\n",
      "('ds1551_metropolitana_estensione_rete_km', '3b1507e3-dccc-4d45-b176-b4cf87875630/resource/12ade3fc-aecd-4c34-8c9d-7d4237998bd7/download/ds1551_metropolitana_estensione-rete_km.csv')\n",
      "('ds1549_tram_estensione_rete_km', 'ad240683-0839-4600-be7b-8aed8c9d5b4b/resource/8c814597-f0d2-48a2-8c05-c839298592bf/download/ds1549_tram_estensione-rete_km.csv')\n",
      "('ds1550_metropolitana_densita_tpl', '31cb6153-eeca-433b-8f3f-99a8467f1a32/resource/68dac7bf-401f-4e51-bbd3-40cfb9c1a225/download/ds1550_metropolitana_densita_tpl.csv')\n",
      "('ds1570_autobus_basse_emissioni', 'cdacb96e-42f9-42bd-9776-4d5197b7ed4a/resource/8b6be5f8-e6f0-409f-aa9d-2ea1d2c1bbb9/download/ds1570_autobus_basse_emissioni.csv')\n",
      "('ds1565_tram_vetture_utilizzate', 'ebbff75c-3d2a-4d0a-a6bd-e4409b39c02e/resource/68c8fd83-b056-4a34-b3f5-94a498bff978/download/ds1565_tram_vetture_utilizzate.csv')\n",
      "('ds1567_metropolitana_convogli_utilizzati', '41ada446-dce3-42b9-af8b-4c6f68f73653/resource/48d93535-9a84-4769-806a-8243df5611eb/download/ds1567_metropolitana_convogli_utilizzati.csv')\n"
     ]
    }
   ],
   "source": [
    "for l in links.fetchall():\n",
    "    print(l)"
   ]
  }
 ],
 "metadata": {
  "interpreter": {
   "hash": "aee8b7b246df8f9039afb4144a1f6fd8d2ca17a180786b69acc140d282b71a49"
  },
  "kernelspec": {
   "display_name": "Python 3.9.1 64-bit",
   "language": "python",
   "name": "python3"
  },
  "language_info": {
   "codemirror_mode": {
    "name": "ipython",
    "version": 3
   },
   "file_extension": ".py",
   "mimetype": "text/x-python",
   "name": "python",
   "nbconvert_exporter": "python",
   "pygments_lexer": "ipython3",
   "version": "3.9.1"
  },
  "orig_nbformat": 4
 },
 "nbformat": 4,
 "nbformat_minor": 2
}
